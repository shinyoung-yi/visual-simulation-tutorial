{
 "cells": [
  {
   "cell_type": "code",
   "execution_count": 1,
   "id": "eb7cc631",
   "metadata": {},
   "outputs": [
    {
     "name": "stdout",
     "output_type": "stream",
     "text": [
      "macOS-12.6.7-arm64-arm-64bit darwin\n",
      "Python 3.12.11 | packaged by Anaconda, Inc. | (main, Jun  5 2025, 08:03:38) [Clang 14.0.6 ]\n",
      "np.__version__ = '2.3.3'\n",
      "o3d.__version__ = '0.19.0'\n"
     ]
    }
   ],
   "source": [
    "import sys, platform\n",
    "import numpy as np\n",
    "import matplotlib.pyplot   as plt\n",
    "# import vispy as vp\n",
    "import open3d as o3d\n",
    "from tqdm import tqdm\n",
    "print(platform.platform(), sys.platform)\n",
    "print(\"Python\", str(sys.version).replace('\\n', ' '))\n",
    "print(f\"{np.__version__ = }\")\n",
    "print(f\"{o3d.__version__ = }\")"
   ]
  },
  {
   "cell_type": "markdown",
   "id": "db3c4a5e",
   "metadata": {},
   "source": [
    "## 1. Rasterize a Triangle\n",
    "### Initialize Parameters"
   ]
  },
  {
   "cell_type": "code",
   "execution_count": 2,
   "id": "a6669fce",
   "metadata": {},
   "outputs": [],
   "source": [
    "# Properties of a triangle\n",
    "v1, v2, v3 = np.array([[1., 0., -1.],\n",
    "                       [0., 1., -1.],\n",
    "                       [0., 0., 0.]])\n",
    "color = (0., 1., 0.) # Green\n",
    "\n",
    "# Properties of the camera and image\n",
    "img_size = (256, 256)\n",
    "fov_x = 2.0 # Length"
   ]
  },
  {
   "cell_type": "code",
   "execution_count": 3,
   "id": "969f7198",
   "metadata": {},
   "outputs": [],
   "source": [
    "# Determine whether given point is inside or outside of given triangle\n",
    "if False:\n",
    "    def p_left_line(p, v1, v2):\n",
    "        \"\"\"\n",
    "        Return `True` if the point `p` is lie at the left side of the directed line `v1-v2`.\n",
    "        In other words, whether `p` is positioned more left than `v2` viewed by `v1`.\n",
    "        \"\"\"\n",
    "        p = np.asarray(p)\n",
    "        v1 = np.asarray(v1)\n",
    "        v2 = np.asarray(v2)\n",
    "        assert p.shape[-1] == 2\n",
    "        assert v1.shape == (2,)\n",
    "        assert v2.shape == (2,)\n",
    "\n",
    "        vec_p = p - v1\n",
    "        vec_v2 = v2 - v1\n",
    "        left_float = vec_v2[..., 0] * vec_p[..., 1] - vec_v2[..., 1] * vec_p[..., 0]\n",
    "        return left_float >= 0\n",
    "\n",
    "    def p_inside_triangle(p, v1, v2, v3):\n",
    "        \"\"\"\n",
    "        Return `True` if the point `p` is inside of the trianlge `v1-v2-v3`.\n",
    "        Otherwise return `False`.\n",
    "        \"\"\"\n",
    "        left_line12 = p_left_line(p, v1, v2)\n",
    "        left_line23 = p_left_line(p, v2, v3)\n",
    "        left_line31 = p_left_line(p, v3, v1)\n",
    "        return (left_line12 & left_line23 & left_line31) | ~(left_line12 | left_line23 | left_line31)"
   ]
  },
  {
   "cell_type": "code",
   "execution_count": 4,
   "id": "bfd43f0d",
   "metadata": {},
   "outputs": [
    {
     "name": "stdout",
     "output_type": "stream",
     "text": [
      "plane_x = 2.0, plane_y = 2.0\n"
     ]
    },
    {
     "data": {
      "image/png": "[encoded data removed]",
      "text/plain": [
       "<Figure size 640x480 with 1 Axes>"
      ]
     },
     "metadata": {},
     "output_type": "display_data"
    }
   ],
   "source": [
    "w, h = img_size\n",
    "def get_pixelXY(img_w, img_h, plane_w, plane_h):\n",
    "    \"\"\"\n",
    "    Parameters\n",
    "    ----------\n",
    "    img_w, img_h: int\n",
    "        Image resolution\n",
    "    plane_w, plane_h: float\n",
    "        Size of the virtual image plane\n",
    "    \n",
    "    Return\n",
    "    ------\n",
    "    X, Y: np.ndarray\n",
    "        Shape (img_h, img_w) for both\n",
    "    \"\"\"\n",
    "    X, Y = np.meshgrid(((np.arange(img_w)+0.5)/img_w - 0.5) * plane_w,\n",
    "                       ((np.arange(img_h)[::-1]+0.5)/img_h - 0.5) * plane_h,\n",
    "                       indexing='xy')\n",
    "    return X, Y\n",
    "\n",
    "plane_x = fov_x\n",
    "# plane_x = np.tan(np.deg2rad(fov_x)/2)*2 # For perspective\n",
    "plane_y = plane_x * h / w\n",
    "print(f\"{plane_x = }, {plane_y = }\")\n",
    "\n",
    "X_img, Y_img = get_pixelXY(w, h, plane_x, plane_y)\n",
    "\n",
    "img = np.zeros(img_size + (3,))\n",
    "\n",
    "def barycentric_coords(X_img, Y_img, v1, v2, v3):\n",
    "    \"\"\"\n",
    "    Parameters\n",
    "    ----------\n",
    "    X_img, Y_img: np.ndarray[...]\n",
    "        x and y coordinates of a virtual image plane (e.g., z=-1).\n",
    "        They should be returns of `get_pixelXY()` \n",
    "    v1, v2, v3: np.ndarray[3]\n",
    "        Vertices of a triangle\n",
    "    \n",
    "    Return\n",
    "    ------\n",
    "    alpha, beta: np.ndarray[...]\n",
    "        Shape of each must be identical to those of `X_img` and `Y_img`.\n",
    "    \"\"\"\n",
    "    a = v3[:2] - v1[:2]\n",
    "    b = v3[:2] - v2[:2]\n",
    "    c = v3[:2] - np.stack([X_img, Y_img], -1)\n",
    "    D = a[0]*b[1] - a[1]*b[0] # shape [...]\n",
    "    Minv = np.stack([np.stack([b[1], -b[0]], -1),\n",
    "                     np.stack([-a[1], a[0]], -1)],-2)\n",
    "    alpha, beta = np.moveaxis((Minv @ c[..., None]).squeeze(-1), -1, 0)\n",
    "    return alpha/D, beta/D\n",
    "\n",
    "alpha, beta = barycentric_coords(X_img, Y_img, v1, v2, v3)\n",
    "\n",
    "def is_barycentric_inside(alpha, beta):\n",
    "    return (alpha >= 0.) & (alpha <= 1.) & (beta >= 0.) & (beta <= 1.) & (alpha+beta <= 1.)\n",
    "\n",
    "mask = is_barycentric_inside(alpha, beta)\n",
    "img[mask] = color\n",
    "plt.imshow(img);"
   ]
  },
  {
   "cell_type": "markdown",
   "id": "90885e84",
   "metadata": {},
   "source": [
    "### Diffuse Shading with a Point Light\n",
    "Barycentric coordinates:\n",
    "$$\n",
    "\\alpha v_1 + \\beta v_2 + \\left(1-\\alpha-\\beta\\right) v_3 = p\n",
    "$$\n",
    "\n",
    "$$\n",
    "\\begin{bmatrix}\n",
    "    v_1-v_3 & v_2-v_3\n",
    "\\end{bmatrix}\\begin{bmatrix}\n",
    "    \\alpha\\\\\\beta\n",
    "\\end{bmatrix} = p - v_3\n",
    "$$\n",
    "\n",
    "$$\n",
    "a \\coloneqq v_3 - v_1 \\\\\n",
    "b \\coloneqq v_3 - v_2 \\\\\n",
    "c \\coloneqq v_3 - p\n",
    "$$\n",
    "\n",
    "Let $p_l\\in\\R^3$ (`light_position`) and $I$ (`light_intensity`) be the position and intensity of a point light source.\n",
    "$$\n",
    "\\frac{1}{\\left|p - p_l\\right|^2} \\left(\\hat n\\cdot \\hat{\\left(p-p_l\\right)}\\right) c\n",
    "$$"
   ]
  },
  {
   "cell_type": "code",
   "execution_count": 5,
   "id": "7d1eb842",
   "metadata": {},
   "outputs": [
    {
     "name": "stderr",
     "output_type": "stream",
     "text": [
      "Clipping input data to the valid range for imshow with RGB data ([0..1] for floats or [0..255] for integers). Got range [0.0..1.1936074337601894].\n"
     ]
    },
    {
     "data": {
      "image/png": "[encoded data removed]",
      "text/plain": [
       "<Figure size 640x480 with 1 Axes>"
      ]
     },
     "metadata": {},
     "output_type": "display_data"
    }
   ],
   "source": [
    "#%% Parmaeters\n",
    "light_position = np.array([0.5, 0.5, 0.]) \n",
    "light_intensity = 1.25\n",
    "\n",
    "#%% Render\n",
    "def triangle_normal(v1, v2, v3):\n",
    "    cross = np.cross(v2-v1, v3-v1)\n",
    "    norm = np.linalg.norm(cross)\n",
    "    return cross / norm\n",
    "\n",
    "img = np.zeros(img_size + (3,))\n",
    "\n",
    "gamma = 1-alpha-beta\n",
    "p = v1*alpha[..., None] + v2*beta[..., None] + v3*gamma[..., None]\n",
    "assert np.allclose(X_img - p[..., 0], 0)\n",
    "assert np.allclose(Y_img - p[..., 1], 0)\n",
    "d = light_position - p\n",
    "n = triangle_normal(v1, v2, v3)\n",
    "\n",
    "d_masked = d[mask]\n",
    "\n",
    "img[mask] = (n*d_masked).sum(-1, keepdims=True) * color / np.linalg.norm(d_masked, 2, -1, keepdims=True)**3 * light_intensity / np.pi\n",
    "plt.imshow(img);"
   ]
  },
  {
   "cell_type": "markdown",
   "id": "634c280e",
   "metadata": {},
   "source": [
    "## 2. Rasterize Many Triangles\n",
    "### Read `.obj` file"
   ]
  },
  {
   "cell_type": "code",
   "execution_count": 6,
   "id": "b8c9056f",
   "metadata": {},
   "outputs": [
    {
     "name": "stdout",
     "output_type": "stream",
     "text": [
      "type(mesh) = <class 'open3d.cpu.pybind.geometry.TriangleMesh'>\n",
      "type(mesh.vertices) = <class 'open3d.cpu.pybind.utility.Vector3dVector'>\n",
      "type(mesh.triangles) = <class 'open3d.cpu.pybind.utility.Vector3iVector'>\n",
      "\n",
      "arr_vertices.shape = (376, 3)\n",
      "arr_triangles.shape = (182, 3)\n"
     ]
    }
   ],
   "source": [
    "# obj_file = \"resource/bunny_300tri.obj\"\n",
    "obj_file = \"resource/bunny_100tri.obj\"\n",
    "mesh = o3d.io.read_triangle_mesh(obj_file)\n",
    "\n",
    "print(f\"{type(mesh) = }\")\n",
    "print(f\"{type(mesh.vertices) = }\")\n",
    "print(f\"{type(mesh.triangles) = }\\n\")\n",
    "\n",
    "arr_vertices = np.asarray(mesh.vertices)\n",
    "arr_triangles = np.asarray(mesh.triangles)\n",
    "print(f\"{arr_vertices.shape = }\")\n",
    "print(f\"{arr_triangles.shape = }\")"
   ]
  },
  {
   "cell_type": "markdown",
   "id": "87af8727",
   "metadata": {},
   "source": [
    "**Note:** Vertex order may be changed."
   ]
  },
  {
   "cell_type": "code",
   "execution_count": 7,
   "id": "32911b16",
   "metadata": {},
   "outputs": [
    {
     "name": "stdout",
     "output_type": "stream",
     "text": [
      "# Open3D data:\n",
      " [[-0.025403    0.123613   -0.003379  ]\n",
      " [-0.048248    0.13677201  0.014896  ]\n",
      " [-0.023999    0.12508     0.019287  ]\n",
      " [-0.031332    0.15650301 -0.003836  ]\n",
      " [-0.058775    0.156633    0.010871  ]]\n",
      "\n",
      "# `.obj` text file:\n",
      "# Blender 4.4.3\n",
      "# www.blender.org\n",
      "o bunny_100\n",
      "v -0.031332 0.156503 -0.003836\n",
      "v -0.048248 0.136772 0.014896\n",
      "v -0.051376 0.134933 -0.001553\n",
      "v -0.041529 0.172773 -0.001792\n",
      "v -0.059948 0.145685 0.035268\n",
      "v -0.025403 0.123613 -0.003379\n"
     ]
    }
   ],
   "source": [
    "print(\"# Open3D data:\\n\", arr_vertices[:5, :])\n",
    "with open(obj_file) as f:\n",
    "    obj_text = f.read()\n",
    "\n",
    "print(\"\\n# `.obj` text file:\")\n",
    "print(\"\\n\".join(obj_text.split(\"\\n\")[:9]))"
   ]
  },
  {
   "cell_type": "markdown",
   "id": "4cd93456",
   "metadata": {},
   "source": [
    "Check the data was properly load, via existing viewer API"
   ]
  },
  {
   "cell_type": "code",
   "execution_count": 8,
   "id": "21da80b8",
   "metadata": {},
   "outputs": [],
   "source": [
    "'''\n",
    "It makes a pop-up window.\n",
    "'''\n",
    "vis = o3d.visualization.Visualizer()\n",
    "vis.create_window()\n",
    "vis.add_geometry(mesh)\n",
    "vis.run()\n",
    "vis.destroy_window()"
   ]
  },
  {
   "cell_type": "markdown",
   "id": "e4918f9b",
   "metadata": {},
   "source": [
    "### Check how naively iterating the process in Step 1 fails"
   ]
  },
  {
   "cell_type": "code",
   "execution_count": 9,
   "id": "a0d016d0",
   "metadata": {},
   "outputs": [],
   "source": [
    "class RendererNaive:\n",
    "    def __init__(self, fov_x, img_w, img_h):\n",
    "        # FOV usually indicates an angle, but here a length\n",
    "        assert fov_x > 0.0\n",
    "        assert isinstance(img_w, int)\n",
    "        assert isinstance(img_h, int)\n",
    "        self.fov_x = fov_x\n",
    "        self.img_w = img_w\n",
    "        self.img_h = img_h\n",
    "\n",
    "        plane_x = fov_x\n",
    "        plane_y = plane_x * img_h / img_w\n",
    "\n",
    "        self.X_img, self.Y_img = get_pixelXY(img_w, img_h, plane_x, plane_y)\n",
    "\n",
    "        self.img = np.zeros((img_h, img_w, 3))\n",
    "    \n",
    "    def render_triangle(self,\n",
    "                        light_position, light_intensity,\n",
    "                        v1, v2, v3, color):\n",
    "        alpha, beta = barycentric_coords(self.X_img, self.Y_img, v1, v2, v3)\n",
    "        mask = is_barycentric_inside(alpha, beta)\n",
    "\n",
    "        gamma = 1-alpha-beta\n",
    "        p = v1*alpha[..., None] + v2*beta[..., None] + v3*gamma[..., None]\n",
    "        assert np.allclose(self.X_img - p[..., 0], 0)\n",
    "        assert np.allclose(self.Y_img - p[..., 1], 0)\n",
    "        d = light_position - p\n",
    "        n = triangle_normal(v1, v2, v3)\n",
    "\n",
    "        d_masked = d[mask]\n",
    "\n",
    "        self.img[mask] = (n*d_masked).sum(-1, keepdims=True) * color / np.linalg.norm(d_masked, 2, -1, keepdims=True)**3 * light_intensity / np.pi\n",
    "        return self.img"
   ]
  },
  {
   "cell_type": "markdown",
   "id": "fd6de662",
   "metadata": {},
   "source": [
    "Set a camera at an appropriate position so that all vertices are visible from the camera"
   ]
  },
  {
   "cell_type": "code",
   "execution_count": 10,
   "id": "a22af091",
   "metadata": {},
   "outputs": [
    {
     "name": "stdout",
     "output_type": "stream",
     "text": [
      "bbox_min = array([-0.091986,  0.033276, -0.061056])\n",
      "bbox_max = array([0.061673  , 0.18494099, 0.057385  ])\n",
      "fov = np.float64(0.3698819875717163)\n"
     ]
    }
   ],
   "source": [
    "bbox_min = arr_vertices.min(0)\n",
    "bbox_max = arr_vertices.max(0)\n",
    "print(f\"{bbox_min = }\")\n",
    "print(f\"{bbox_max = }\")\n",
    "\n",
    "# FOV usually indicates an angle, but here a length\n",
    "fov = 2 * max(*np.abs(bbox_min[:2]), *np.abs(bbox_max[:2]))\n",
    "print(f\"{fov = }\")"
   ]
  },
  {
   "cell_type": "markdown",
   "id": "2e3033f8",
   "metadata": {},
   "source": [
    "* Elapsed time: 3.8s for AMD Ryzen 7700 (2022 year) 8-Core Processor (3.80 GHz), when tested with `bunny_300tri.obj`"
   ]
  },
  {
   "cell_type": "code",
   "execution_count": 11,
   "id": "27dbedec",
   "metadata": {},
   "outputs": [
    {
     "name": "stderr",
     "output_type": "stream",
     "text": [
      "100%|██████████| 182/182 [00:00<00:00, 186.82it/s]\n",
      "Clipping input data to the valid range for imshow with RGB data ([0..1] for floats or [0..255] for integers). Got range [-11.036889424920973..22.792962184010676].\n"
     ]
    },
    {
     "data": {
      "image/png": "[encoded data removed]",
      "text/plain": [
       "<Figure size 640x480 with 1 Axes>"
      ]
     },
     "metadata": {},
     "output_type": "display_data"
    }
   ],
   "source": [
    "#%% Parameters\n",
    "fov_x = 0.4\n",
    "w, h = 256, 256\n",
    "light_position = np.array([-0.1, 0.2, 0.1]) \n",
    "light_intensity = 0.75\n",
    "color = (0.4, 0.8, 0.8)\n",
    "\n",
    "#%% Render\n",
    "renderer = RendererNaive(fov_x, w, h)\n",
    "for tri in tqdm(arr_triangles): # Try `arr_triangles[::-1]` instead of `arr_triangles`\n",
    "    assert tri.shape == (3,)\n",
    "    v1 = arr_vertices[tri[0]]\n",
    "    v2 = arr_vertices[tri[1]]\n",
    "    v3 = arr_vertices[tri[2]]\n",
    "    renderer.render_triangle(light_position, light_intensity,\n",
    "                             v1, v2, v3, color)\n",
    "plt.imshow(renderer.img);"
   ]
  },
  {
   "cell_type": "markdown",
   "id": "b64b3e3d",
   "metadata": {},
   "source": [
    "### Depth buffer"
   ]
  },
  {
   "cell_type": "code",
   "execution_count": 12,
   "id": "091a26ce",
   "metadata": {},
   "outputs": [
    {
     "name": "stderr",
     "output_type": "stream",
     "text": [
      "100%|██████████| 182/182 [00:00<00:00, 187.67it/s]\n",
      "Clipping input data to the valid range for imshow with RGB data ([0..1] for floats or [0..255] for integers). Got range [-5.157760774400461..23.03317367740367].\n"
     ]
    },
    {
     "data": {
      "text/plain": [
       "<matplotlib.colorbar.Colorbar at 0x105a39ca0>"
      ]
     },
     "execution_count": 12,
     "metadata": {},
     "output_type": "execute_result"
    },
    {
     "data": {
      "image/png": "[encoded data removed]",
      "text/plain": [
       "<Figure size 1000x500 with 3 Axes>"
      ]
     },
     "metadata": {},
     "output_type": "display_data"
    }
   ],
   "source": [
    "class RendererV1(RendererNaive):\n",
    "    \"\"\"\n",
    "    V1: Add a depth buffer for a proper rendering\n",
    "    \"\"\"\n",
    "    def __init__(self, fov_x, img_w, img_h):\n",
    "        super().__init__(fov_x, img_w, img_h)\n",
    "        self.depth = np.full((img_h, img_w), np.inf) # Depth buffer\n",
    "    \n",
    "    def render_triangle(self,\n",
    "                        light_position, light_intensity,\n",
    "                        v1, v2, v3, color):\n",
    "        alpha, beta = barycentric_coords(self.X_img, self.Y_img, v1, v2, v3)\n",
    "        mask = is_barycentric_inside(alpha, beta)\n",
    "\n",
    "        gamma = 1-alpha-beta\n",
    "        p = v1*alpha[..., None] + v2*beta[..., None] + v3*gamma[..., None]\n",
    "        assert np.allclose(self.X_img - p[..., 0], 0)\n",
    "        assert np.allclose(self.Y_img - p[..., 1], 0)\n",
    "        d = light_position - p\n",
    "        n = triangle_normal(v1, v2, v3)\n",
    "        \n",
    "        # Theese three lines are the only difference\n",
    "        depth_tri = -p[..., 2] # Negative sign due to \"-Z\" is forward\n",
    "        # print(f\"1. {mask.sum() = }\")\n",
    "        mask = mask & (depth_tri < self.depth)\n",
    "        # print(f\"2. {mask.sum() = }\")\n",
    "        self.depth[mask] = depth_tri[mask]\n",
    "\n",
    "        d_masked = d[mask]\n",
    "\n",
    "        self.img[mask] = (n*d_masked).sum(-1, keepdims=True) * color / np.linalg.norm(d_masked, 2, -1, keepdims=True)**3 * light_intensity / np.pi\n",
    "        return self.img\n",
    "    \n",
    "    def render_obj(self, light_position, light_intensity, arr_vertices, arr_triangles, color):\n",
    "        for tri in tqdm(arr_triangles): # Try `arr_triangles[::-1]` instead of `arr_triangles`\n",
    "            assert tri.shape == (3,)\n",
    "            v1 = arr_vertices[tri[0]]\n",
    "            v2 = arr_vertices[tri[1]]\n",
    "            v3 = arr_vertices[tri[2]]\n",
    "            renderer.render_triangle(light_position, light_intensity,\n",
    "                                    v1, v2, v3, color) # Update `self.img`\n",
    "        return self.img\n",
    "            \n",
    "renderer = RendererV1(fov_x, w, h)\n",
    "img = renderer.render_obj(light_position, light_intensity, arr_vertices, arr_triangles, color)\n",
    "\n",
    "fig, axes = plt.subplots(1, 2, figsize=(10, 5))\n",
    "axes[0].imshow(renderer.img)\n",
    "axes[0].set_title(\"Rendered image\")\n",
    "im = axes[1].imshow(renderer.depth)\n",
    "axes[1].set_title(\"Depth buffer\")\n",
    "fig.colorbar(im)"
   ]
  },
  {
   "cell_type": "markdown",
   "id": "49253500",
   "metadata": {},
   "source": [
    "## 3. Shading\n",
    "Let's try various shading:\n",
    "* Lights: point, directional + ambient\n",
    "* Material: diffuse, specular\n",
    "\n",
    "(+ applying gamma correction will be good to see the results)"
   ]
  }
 ],
 "metadata": {
  "kernelspec": {
   "display_name": "vrar-theory",
   "language": "python",
   "name": "python3"
  },
  "language_info": {
   "codemirror_mode": {
    "name": "ipython",
    "version": 3
   },
   "file_extension": ".py",
   "mimetype": "text/x-python",
   "name": "python",
   "nbconvert_exporter": "python",
   "pygments_lexer": "ipython3",
   "version": "3.12.11"
  }
 },
 "nbformat": 4,
 "nbformat_minor": 5
}
