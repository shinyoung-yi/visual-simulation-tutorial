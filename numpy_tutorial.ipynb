{
 "cells": [
  {
   "cell_type": "markdown",
   "id": "1d157009",
   "metadata": {},
   "source": [
    "# NumPy Tutorial\n",
    "\n",
    "## Reason why we use `numpy` for this theory-tutorial\n",
    "* Naive CPU iteration is so slow\n",
    "* GPU 구현은 거추장스럽고, 중간 결과 확인이 힘듦 \n",
    "\n",
    "Advanges of array programming APIs (NumPy, Tensorflow, PyTorch, MATLAB, etc.)\n",
    "* Easy to converted into natural Python program\n",
    "> ```python\n",
    "> # for A, B, NDarray with shape (2, 3, 4)\n",
    "> A + B\n",
    "> ```\n",
    "> It can be easily converted to ...\n",
    "> ```python\n",
    "> for i in range(2):\n",
    ">     for j in range(3):\n",
    ">         for k in range(4):\n",
    ">             A[i,j,k] + B[i,j,k]\n",
    "> ```\n",
    "* Source codes based on array programming APIs look similar to GPU-parallel codes"
   ]
  }
 ],
 "metadata": {
  "language_info": {
   "name": "python"
  }
 },
 "nbformat": 4,
 "nbformat_minor": 5
}
