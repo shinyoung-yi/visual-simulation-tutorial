{
 "cells": [
  {
   "cell_type": "markdown",
   "id": "50ce9d07",
   "metadata": {},
   "source": [
    "## Import dependencies"
   ]
  },
  {
   "cell_type": "code",
   "execution_count": 1,
   "id": "bee56e71",
   "metadata": {},
   "outputs": [
    {
     "name": "stdout",
     "output_type": "stream",
     "text": [
      "macOS-12.6.7-arm64-arm-64bit darwin\n",
      "Python 3.12.11 | packaged by Anaconda, Inc. | (main, Jun  5 2025, 08:03:38) [Clang 14.0.6 ]\n",
      "np.__version__ = '2.3.3'\n",
      "vp.__version__ = '0.15.2'\n",
      "o3d.__version__ = '0.19.0'\n",
      "OpenGL.__version__ = '3.1.10'\n",
      "glfw.__version__ = '2.10.0'\n"
     ]
    },
    {
     "name": "stderr",
     "output_type": "stream",
     "text": [
      "objc[46663]: Class GLFWHelper is implemented in both /Users/metameta/anaconda3/envs/vrar-theory/lib/python3.12/site-packages/open3d/cpu/pybind.cpython-312-darwin.so (0x16d80fa28) and /Users/metameta/anaconda3/envs/vrar-theory/lib/python3.12/site-packages/glfw/libglfw.3.dylib (0x1755c9bb8). One of the two will be used. Which one is undefined.\n",
      "objc[46663]: Class GLFWApplicationDelegate is implemented in both /Users/metameta/anaconda3/envs/vrar-theory/lib/python3.12/site-packages/open3d/cpu/pybind.cpython-312-darwin.so (0x16d80fa78) and /Users/metameta/anaconda3/envs/vrar-theory/lib/python3.12/site-packages/glfw/libglfw.3.dylib (0x1755c9c08). One of the two will be used. Which one is undefined.\n",
      "objc[46663]: Class GLFWWindowDelegate is implemented in both /Users/metameta/anaconda3/envs/vrar-theory/lib/python3.12/site-packages/open3d/cpu/pybind.cpython-312-darwin.so (0x16d80faa0) and /Users/metameta/anaconda3/envs/vrar-theory/lib/python3.12/site-packages/glfw/libglfw.3.dylib (0x1755c9c30). One of the two will be used. Which one is undefined.\n",
      "objc[46663]: Class GLFWContentView is implemented in both /Users/metameta/anaconda3/envs/vrar-theory/lib/python3.12/site-packages/open3d/cpu/pybind.cpython-312-darwin.so (0x16d80faf0) and /Users/metameta/anaconda3/envs/vrar-theory/lib/python3.12/site-packages/glfw/libglfw.3.dylib (0x1755c9c80). One of the two will be used. Which one is undefined.\n",
      "objc[46663]: Class GLFWWindow is implemented in both /Users/metameta/anaconda3/envs/vrar-theory/lib/python3.12/site-packages/open3d/cpu/pybind.cpython-312-darwin.so (0x16d80fb68) and /Users/metameta/anaconda3/envs/vrar-theory/lib/python3.12/site-packages/glfw/libglfw.3.dylib (0x1755c9cf8). One of the two will be used. Which one is undefined.\n"
     ]
    }
   ],
   "source": [
    "import sys, platform\n",
    "from typing import Union\n",
    "import numpy as np\n",
    "import matplotlib.pyplot as plt\n",
    "import vispy as vp\n",
    "import open3d as o3d\n",
    "from tqdm import tqdm\n",
    "import glfw\n",
    "import OpenGL\n",
    "import OpenGL.GL as GL\n",
    "import OpenGL.GLU as GLU\n",
    "import OpenGL.GL.shaders\n",
    "\n",
    "print(platform.platform(), sys.platform)\n",
    "print(\"Python\", str(sys.version).replace('\\n', ' '))\n",
    "print(f\"{np.__version__ = }\")\n",
    "print(f\"{vp.__version__ = }\")\n",
    "print(f\"{o3d.__version__ = }\")\n",
    "print(f\"{OpenGL.__version__ = }\")\n",
    "print(f\"{glfw.__version__ = }\")"
   ]
  },
  {
   "cell_type": "markdown",
   "id": "3ebaf9ca",
   "metadata": {},
   "source": [
    "## Open3D (pop-up window)"
   ]
  },
  {
   "cell_type": "code",
   "execution_count": 2,
   "id": "208be023",
   "metadata": {},
   "outputs": [
    {
     "name": "stdout",
     "output_type": "stream",
     "text": [
      "\u001b[1;33m[Open3D WARNING] Unable to load file bunny_300tri.obj with ASSIMP: Unable to open file \"bunny_300tri.obj\".\u001b[0;m\n",
      "\u001b[1;33m[Open3D WARNING] The number of points is 0 when creating axis-aligned bounding box.\u001b[0;m\n"
     ]
    }
   ],
   "source": [
    "obj_file = \"bunny_300tri.obj\"\n",
    "mesh = o3d.io.read_triangle_mesh(obj_file)\n",
    "vis = o3d.visualization.Visualizer()\n",
    "vis.create_window()\n",
    "vis.add_geometry(mesh)\n",
    "vis.run()\n",
    "vis.destroy_window()"
   ]
  },
  {
   "cell_type": "markdown",
   "id": "286c0679",
   "metadata": {},
   "source": [
    "## OpenGL (pop-up window or not)"
   ]
  },
  {
   "cell_type": "code",
   "execution_count": 5,
   "id": "1a4e306a",
   "metadata": {},
   "outputs": [
    {
     "data": {
      "image/png": "[encoded data removed]",
      "text/plain": [
       "<Figure size 640x480 with 1 Axes>"
      ]
     },
     "metadata": {},
     "output_type": "display_data"
    }
   ],
   "source": [
    "POPUP_WINDOW = 0\n",
    "DISPLAY_WIDTH = 800\n",
    "DISPLAY_HEIGHT = 600\n",
    "def main() -> Union[None, np.ndarray]:\n",
    " \n",
    "    # initialize glfw\n",
    "    if not glfw.init():\n",
    "        return\n",
    "    \n",
    "    # https://www.reddit.com/r/opengl/comments/14oazju/version_330_is_not_supported_m1_mac/?tl=ko -->\n",
    "    # https://www.glfw.org/faq.html#41---how-do-i-create-an-opengl-30-context\n",
    "    glfw.window_hint(glfw.CONTEXT_VERSION_MAJOR, 3);\n",
    "    glfw.window_hint(glfw.CONTEXT_VERSION_MINOR, 3);\n",
    "    glfw.window_hint(glfw.OPENGL_FORWARD_COMPAT, GL.GL_TRUE);\n",
    "    glfw.window_hint(glfw.OPENGL_PROFILE, glfw.OPENGL_CORE_PROFILE);\n",
    "\n",
    "    if not POPUP_WINDOW:\n",
    "        glfw.window_hint(glfw.VISIBLE, False)\n",
    "\n",
    "    window = glfw.create_window(DISPLAY_WIDTH, DISPLAY_HEIGHT, \"My OpenGL window\", None, None)\n",
    " \n",
    "    if not window:\n",
    "        glfw.terminate()\n",
    "        return\n",
    " \n",
    "    glfw.make_context_current(window)\n",
    "    #            positions        colors\n",
    "    triangle = [-0.5, -0.5, 0.0, 1.0, 0.0, 0.0,\n",
    "                 0.5, -0.5, 0.0, 0.0, 1.0, 0.0,\n",
    "                 0.0,  0.5, 0.0, 0.0, 0.0, 1.0]\n",
    " \n",
    "    triangle = np.array(triangle, dtype = np.float32)\n",
    " \n",
    "    vertex_shader = \"\"\"\n",
    "    #version 330\n",
    "    in vec3 position;\n",
    "    in vec3 color;\n",
    "    out vec3 newColor;\n",
    "    void main()\n",
    "    {\n",
    "        gl_Position = vec4(position, 1.0f);\n",
    "        newColor = color;\n",
    "    }\n",
    "    \"\"\"\n",
    " \n",
    "    fragment_shader = \"\"\"\n",
    "    #version 330\n",
    "    in vec3 newColor;\n",
    "    out vec4 outColor;\n",
    "    void main()\n",
    "    {\n",
    "        outColor = vec4(newColor, 1.0f);\n",
    "    }\n",
    "    \"\"\"\n",
    "    # https://stackoverflow.com/questions/62209242/pyopengl-test-program-getting-the-validation-failed-no-vertex-array-object-bou\n",
    "    vao = GL.glGenVertexArrays(1)\n",
    "    GL.glBindVertexArray(vao)\n",
    "\n",
    "    shader = OpenGL.GL.shaders.compileProgram(OpenGL.GL.shaders.compileShader(vertex_shader, GL.GL_VERTEX_SHADER),\n",
    "                                              OpenGL.GL.shaders.compileShader(fragment_shader, GL.GL_FRAGMENT_SHADER))\n",
    " \n",
    "    VBO = GL.glGenBuffers(1)\n",
    "    GL.glBindBuffer(GL.GL_ARRAY_BUFFER, VBO)\n",
    "    GL.glBufferData(GL.GL_ARRAY_BUFFER, 72, triangle, GL.GL_STATIC_DRAW)\n",
    " \n",
    "    position = GL.glGetAttribLocation(shader, \"position\")\n",
    "    GL.glVertexAttribPointer(position, 3, GL.GL_FLOAT, GL.GL_FALSE, 24, GL.ctypes.c_void_p(0))\n",
    "    GL.glEnableVertexAttribArray(position)\n",
    " \n",
    "    color = GL.glGetAttribLocation(shader, \"color\")\n",
    "    GL.glVertexAttribPointer(color, 3, GL.GL_FLOAT, GL.GL_FALSE, 24, GL.ctypes.c_void_p(12))\n",
    "    GL.glEnableVertexAttribArray(color)\n",
    " \n",
    " \n",
    "    GL.glUseProgram(shader)\n",
    " \n",
    "    GL.glClearColor(0.2, 0.3, 0.2, 1.0)\n",
    "    \n",
    "    if POPUP_WINDOW:\n",
    "        while not glfw.window_should_close(window):\n",
    "            glfw.poll_events()\n",
    "    \n",
    "            GL.glClear(GL.GL_COLOR_BUFFER_BIT)\n",
    "    \n",
    "            GL.glDrawArrays(GL.GL_TRIANGLES, 0, 3)\n",
    "    \n",
    "            glfw.swap_buffers(window)\n",
    "        glfw.terminate()\n",
    "    else:\n",
    "        \n",
    "        GL.glClear(GL.GL_COLOR_BUFFER_BIT)\n",
    "        GL.glDrawArrays(GL.GL_TRIANGLES, 0, 3)\n",
    "        image_buffer = GL.glReadPixels(0, 0, DISPLAY_WIDTH, DISPLAY_HEIGHT, GL.GL_RGB, GL.GL_UNSIGNED_BYTE)\n",
    "        image = np.frombuffer(image_buffer, dtype=np.uint8).reshape(DISPLAY_HEIGHT, DISPLAY_WIDTH, 3)\n",
    "\n",
    "        glfw.destroy_window(window)\n",
    "        return image\n",
    " \n",
    "    \n",
    "if POPUP_WINDOW:\n",
    "    main()\n",
    "else:\n",
    "    plt.imshow(main());"
   ]
  }
 ],
 "metadata": {
  "kernelspec": {
   "display_name": "vrar-theory",
   "language": "python",
   "name": "python3"
  },
  "language_info": {
   "codemirror_mode": {
    "name": "ipython",
    "version": 3
   },
   "file_extension": ".py",
   "mimetype": "text/x-python",
   "name": "python",
   "nbconvert_exporter": "python",
   "pygments_lexer": "ipython3",
   "version": "3.12.11"
  }
 },
 "nbformat": 4,
 "nbformat_minor": 5
}
